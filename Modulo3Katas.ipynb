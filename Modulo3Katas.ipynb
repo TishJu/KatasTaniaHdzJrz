{
 "cells": [
  {
   "cell_type": "code",
   "execution_count": 1,
   "metadata": {},
   "outputs": [
    {
     "name": "stdout",
     "output_type": "stream",
     "text": [
      "5\n"
     ]
    }
   ],
   "source": [
    "#Para crear una instrucción if en Python, define una expresión de prueba que pueda \n",
    "# tener un valor True o False, seguido de un bloque de código con sangría que se \n",
    "# ejecutará si se cumple la condición.\n",
    "#if expresion_prueba:\n",
    "   # intrucción(es) a ejecutar\n",
    "\n",
    "x=5\n",
    "y=6\n",
    "if x < y:\n",
    "    print(x)\n",
    "else:\n",
    "   print(y)     "
   ]
  },
  {
   "cell_type": "code",
   "execution_count": 5,
   "metadata": {},
   "outputs": [
    {
     "name": "stdout",
     "output_type": "stream",
     "text": [
      "50 es mayor igual que 30\n",
      "50 es mayor que 1\n"
     ]
    }
   ],
   "source": [
    "#Para escribir un programa con una lógica condicional más compleja, puedes agregar \n",
    "# instrucciones else y elif al bloque de código. También puedes anidar instrucciones condicionales.\n",
    "a=30\n",
    "b=50\n",
    "c=1\n",
    "if b>= a:\n",
    "    print(str(b)+' es mayor igual que '+ str(a))\n",
    "    if c>b:\n",
    "        print(str(c)+ ' es mayor que ' + str(b))\n",
    "    else: \n",
    "       print(str(b) + ' es mayor que ' + str(c))\n",
    "elif b>=c:\n",
    "    print(str(b) + ' es mayor igual que ' + str(c))\n",
    "else:\n",
    "    print( str(b)+ ' es menor que ' + str(a) +' y ' + str(c))"
   ]
  },
  {
   "cell_type": "code",
   "execution_count": null,
   "metadata": {},
   "outputs": [],
   "source": [
    "#Para este ejercicio, escribirás una lógica condicional que\n",
    "#  imprima una advertencia si un asteroide se acerca a\n",
    "#  la Tierra demasiado rápido. La velocidad del asteroi\n",
    "# de varía dependiendo de lo cerca que esté del sol, y \n",
    "# cualquier velocidad superior a 25 kilómetros por segundo\n",
    "# (km/s) merece una advertencia.\n",
    "#Un asteroide se acerca, y viaja a una velocidad de 49 km/s.\n",
    "\n",
    "v_a=49\n",
    "\n",
    "if v_a>25:\n",
    "    print('Advertencia, un asteroide se aproxima a una velocidad de ' + str(v_a) + 'Km/s.')\n",
    "else:\n",
    "    print('todo esta ok.')    \n"
   ]
  },
  {
   "cell_type": "code",
   "execution_count": 7,
   "metadata": {},
   "outputs": [
    {
     "name": "stdout",
     "output_type": "stream",
     "text": [
      "Observa el cielo hay un asteroide.\n"
     ]
    }
   ],
   "source": [
    " #Si un asteroide entra en la atmósfera de la Tierra a una velocidad mayor o igual a 20 km/s, a veces produce un rayo de\n",
    " #  luz que se puede ver desde la Tierra. Escribe la lógica condicional que usa declaraciones if, else, y elif para alertar \n",
    " # a las personas de todo el mundo que deben buscar un asteroide en el cielo. ¡Hay uno que se dirige a la tierra ahora a una velocidad de 19 km/s!\n",
    "\n",
    "v_a=19 #20\n",
    "if v_a>20:\n",
    "    print('Observa el cielo hay un asteroide.')\n",
    "elif v_a==20:\n",
    "    print('Observa el cielo hay un asteroide.')   \n",
    "else:\n",
    "    print('Nada en el cielo')     \n"
   ]
  },
  {
   "cell_type": "code",
   "execution_count": null,
   "metadata": {},
   "outputs": [],
   "source": [
    "#En este ejercicio, aprenderás información más matizada sobre cuándo los asteroides representan un peligro para la Tierra,    PELIGRO , NO PELIGRO  --> ADVERTENCIA\n",
    "# y utilizarás esa información para mejorar nuestro sistema de advertencia. Aquí está la nueva información que necesitas saber:\n",
    "\n",
    "#*Los asteroides de menos de 25 metros en su dimensión más grande probablemente se quemarán a medida que entren en la atmósfera de la Tierra.   a<25 --> NO PELIGRO\n",
    "\n",
    "#Si una pieza de un asteroide que es más grande que 25 metros pero más pequeña que 1000 metros golpeara la Tierra, causaría mucho daño.  a>25 pero más a<1000 --->PElIGRO\n",
    "#También discutimos en el ejercicio anterior que:\n",
    "\n",
    "#La velocidad del asteroide varía en función de lo cerca que esté del sol, y cualquier velocidad superior a 25 kilómetros por segundo (km/s) merece una advertencia.  v_a>25  ---> PELIGRO\n",
    "#Si un asteroide entra en la atmósfera de la Tierra a una velocidad mayor o igual a 20 km/s, a veces produce un rayo de luz que se puede ver desde la Tierra.   v_a>=20 ---> se ve una luz\n",
    "#Usando toda esta información, escribe un programa que emita la advertencia o información correcta a la gente de la Tierra, según la velocidad y el tamaño de un asteroide. \n",
    "\n",
    "# Utiliza instrucciones if, else, y elif, así como los operadores and y or.\n",
    "\n",
    "# a= asteroide\n",
    "# v_a= velocidad de asteroide\n",
    "#  v_a=30 a=80\n",
    "\n",
    "# a <25       ---> NO daña la tierra  NO PELIGRO\n",
    "# a>25        -->daña la tierra   PELIGRO !!!!!!\n",
    "# a<1000      --> daña la tierra  PELIGRO ******\n",
    "# v_a > 25    ---> daña la tierra PELIGRO !!!!!\n",
    "# v_a >=20    ---> avisar si de la luz\n",
    "\n",
    "#peligro, no peligro y aviso\n",
    "\n",
    "# Utiliza instrucciones if, else, y elif, así como los operadores and y or.\n",
    "\n",
    "a=5000\n",
    "v_a=50\n",
    "\n",
    "if a>25 and  v_a> 25:\n",
    "    print(\"Alerta, Es el fin del mundo!\")\n",
    "elif a<25 :\n",
    "    print(\"Hay un asteroide de \" + str(a) + \" metros\") \n",
    "elif v_a >20  or v_a==20:\n",
    "   print(\"Alerta, observar en el cielo la luz del asteroide\")       \n",
    "else:\n",
    "    print(\"No hay peligro\")    "
   ]
  }
 ],
 "metadata": {
  "interpreter": {
   "hash": "3b66be48a5b063486b888a9987ceadeb9496e139d6fb5ed7c7192907f86b5e1c"
  },
  "kernelspec": {
   "display_name": "Python 3.10.2 64-bit",
   "language": "python",
   "name": "python3"
  },
  "language_info": {
   "codemirror_mode": {
    "name": "ipython",
    "version": 3
   },
   "file_extension": ".py",
   "mimetype": "text/x-python",
   "name": "python",
   "nbconvert_exporter": "python",
   "pygments_lexer": "ipython3",
   "version": "3.10.2"
  },
  "orig_nbformat": 4
 },
 "nbformat": 4,
 "nbformat_minor": 2
}
