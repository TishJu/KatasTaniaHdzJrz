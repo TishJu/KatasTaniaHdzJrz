{
 "cells": [
  {
   "cell_type": "code",
   "execution_count": 33,
   "metadata": {},
   "outputs": [],
   "source": [
    "#Comienza por crear una función que necesite tres lecturas de combustible y \n",
    "# devuelva un informe:\n",
    "\n",
    "# Función para leer 3 tanques de combustible y muestre el promedio\n",
    "\n",
    "def informe(lectura1, lectura2, lectura3):\n",
    "    t=(lectura1+lectura2+lectura3)/3\n",
    "    return f\"\"\" Informe de tanques\n",
    "    Tanque1: {lectura1}%\n",
    "    Tanque2: {lectura2}%\n",
    "    Tanque3: {lectura3}%\n",
    "    Porcentaje Total: {round(t)}%\n",
    "    \"\"\""
   ]
  },
  {
   "cell_type": "code",
   "execution_count": 34,
   "metadata": {},
   "outputs": [
    {
     "name": "stdout",
     "output_type": "stream",
     "text": [
      " Informe de tanques\n",
      "    Tanque1: 100%\n",
      "    Tanque2: 52%\n",
      "    Tanque3: 87%\n",
      "    Porcentaje Total: 80%\n",
      "    \n"
     ]
    }
   ],
   "source": [
    "\n",
    "# Llamamos a la función que genera el reporte print(funcion(tanque1, tanque2, tanque3))\n",
    "\n",
    "print(informe(100,52,87))\n"
   ]
  },
  {
   "cell_type": "code",
   "execution_count": 35,
   "metadata": {},
   "outputs": [],
   "source": [
    "# Función promedio \n",
    "\n",
    "def prmdio(valores):\n",
    "    total= sum(valores)\n",
    "    return total/(len(valores))"
   ]
  },
  {
   "cell_type": "code",
   "execution_count": 36,
   "metadata": {},
   "outputs": [
    {
     "data": {
      "text/plain": [
       "34.333333333333336"
      ]
     },
     "execution_count": 36,
     "metadata": {},
     "output_type": "execute_result"
    }
   ],
   "source": [
    "prmdio([10,52,41])\n",
    "\n"
   ]
  },
  {
   "cell_type": "code",
   "execution_count": 37,
   "metadata": {},
   "outputs": [],
   "source": [
    "# Actualiza la función\n",
    "def informe(lectura1, lectura2, lectura3):\n",
    "    t=(lectura1+lectura2+lectura3)/3\n",
    "    return f\"\"\" Informe de tanques\n",
    "    Tanque1: {lectura1}%\n",
    "    Tanque2: {lectura2}%\n",
    "    Tanque3: {lectura3}%\n",
    "    Promedio: {prmdio([lectura1,lectura2,lectura3])}%\n",
    "    \"\"\""
   ]
  },
  {
   "cell_type": "code",
   "execution_count": 38,
   "metadata": {},
   "outputs": [
    {
     "name": "stdout",
     "output_type": "stream",
     "text": [
      " Informe de tanques\n",
      "    Tanque1: 100%\n",
      "    Tanque2: 152%\n",
      "    Tanque3: 97%\n",
      "    Promedio: 116.33333333333333%\n",
      "    \n"
     ]
    }
   ],
   "source": [
    "print(informe(100,152,97))"
   ]
  },
  {
   "cell_type": "code",
   "execution_count": 39,
   "metadata": {},
   "outputs": [
    {
     "name": "stdout",
     "output_type": "stream",
     "text": [
      " Informe de la misión Luna\n",
      "      Hora de prelanzamiento: 14      \n",
      "      Combustible a la izquierda:500000\n",
      "      Tiempo total de vuelo: 65\n",
      "\n",
      "    \n"
     ]
    }
   ],
   "source": [
    "# Función con un informe preciso de la misión. Considera hora de \n",
    "# prelanzamiento, tiempo de vuelo, destino, tanque externo y tanque interno\n",
    "\n",
    "def infP(hp,tv,d,te,ti):\n",
    "    return f\"\"\" Informe de la misión {d}\n",
    "      Hora de prelanzamiento: {hp}      \n",
    "      Combustible a la izquierda:{te+ti}\n",
    "      Tiempo total de vuelo: {hp+tv}\n",
    "\n",
    "    \"\"\"\n",
    "\n",
    "print(infP(14, 51, \"Luna\", 200000, 300000))"
   ]
  },
  {
   "cell_type": "code",
   "execution_count": 44,
   "metadata": {},
   "outputs": [
    {
     "name": "stdout",
     "output_type": "stream",
     "text": [
      "\n",
      "    Reporte mision Luna\n",
      "    Tiempo de viaje: 119 minutos\n",
      "    Tanques: 52000\n",
      "    \n"
     ]
    }
   ],
   "source": [
    "# Escribe tu nueva función de reporte considerando lo anterior\n",
    "def reportMision(destino,*minutos,**tanques):\n",
    "    #           (\"Luna\",10,30,45,34,tanqueinterno=50000,tanqueexterno=2000 )\n",
    "    return f\"\"\"\n",
    "    Reporte mision {destino}\n",
    "    Tiempo de viaje: {sum(minutos)} minutos\n",
    "    Tanques: {sum(tanques.values())}\n",
    "    \"\"\"\n",
    "\n",
    "print(reportMision(\"Luna\",10,30,45,34,tinterno=50000,texterno=2000))"
   ]
  },
  {
   "cell_type": "code",
   "execution_count": 51,
   "metadata": {},
   "outputs": [
    {
     "name": "stdout",
     "output_type": "stream",
     "text": [
      "Reporte MisionLuna\n",
      "    Tiempo de viaje: 85 minutos\n",
      "    Tanques: 75000\n",
      "    \n",
      "         Tanque interno  tiene ---> 50000 galones left\n",
      "\n",
      "         Tanque externo  tiene ---> 25000 galones left\n",
      "\n"
     ]
    }
   ],
   "source": [
    "# Escribe tu nueva función\n",
    "\n",
    "def reportMision_(destino,*minutos,**tanques):\n",
    "    report= f\"\"\"Reporte Mision{destino}\n",
    "    Tiempo de viaje: {sum(minutos)} minutos\n",
    "    Tanques: {sum(tanques.values())}\n",
    "    \"\"\"\n",
    "    for keyName, valueInt in tanques.items():\n",
    "         report += f\"\"\"\n",
    "         Tanque {keyName}  tiene ---> {valueInt} galones left\\n\"\"\"\n",
    "\n",
    "    return report     \n",
    "\n",
    "\n",
    "print(reportMision_(\"Luna\",10,15,55,5, interno=50000, externo=25000))\n",
    "    "
   ]
  }
 ],
 "metadata": {
  "interpreter": {
   "hash": "3b66be48a5b063486b888a9987ceadeb9496e139d6fb5ed7c7192907f86b5e1c"
  },
  "kernelspec": {
   "display_name": "Python 3.10.2 64-bit",
   "language": "python",
   "name": "python3"
  },
  "language_info": {
   "codemirror_mode": {
    "name": "ipython",
    "version": 3
   },
   "file_extension": ".py",
   "mimetype": "text/x-python",
   "name": "python",
   "nbconvert_exporter": "python",
   "pygments_lexer": "ipython3",
   "version": "3.10.2"
  },
  "orig_nbformat": 4
 },
 "nbformat": 4,
 "nbformat_minor": 2
}
