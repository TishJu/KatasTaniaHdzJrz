{
 "cells": [
  {
   "cell_type": "code",
   "execution_count": 25,
   "metadata": {},
   "outputs": [
    {
     "name": "stdout",
     "output_type": "stream",
     "text": [
      "Los planetas son: \n",
      "    Mercurio   \n",
      "     Venus     \n",
      "     Tierra    \n",
      "     Marte     \n",
      "    Jupiter    \n",
      "    Saturno    \n",
      "     Urano     \n",
      "    Nepturno   \n"
     ]
    }
   ],
   "source": [
    "# Creamos la lista planets y la mostramos\n",
    "planets=['Mercurio','Venus','Tierra','Marte','Jupiter','Saturno','Urano','Nepturno']\n",
    "\n",
    "print('Los planetas son: ')\n",
    "for planeta in planets:\n",
    "    print(planeta.center(15,' '))\n",
    "\n",
    "    "
   ]
  },
  {
   "cell_type": "code",
   "execution_count": 26,
   "metadata": {},
   "outputs": [
    {
     "name": "stdout",
     "output_type": "stream",
     "text": [
      "El total de planetas son: 9\n",
      "El último planetas del sistema Solar es: Pluton\n"
     ]
    }
   ],
   "source": [
    "# Agregamos a plutón y mostramos el último elemento\n",
    "\n",
    "planets.append('Pluton')\n",
    "\n",
    "print('El total de planetas son: ' + str(len(planets)))\n",
    "print('El último planetas del sistema Solar es: '+planets[-1])\n"
   ]
  },
  {
   "cell_type": "code",
   "execution_count": 9,
   "metadata": {},
   "outputs": [
    {
     "name": "stdout",
     "output_type": "stream",
     "text": [
      "Los planetas más cercanos a Venus son: \n",
      "Mercurio y Tierra\n",
      "Los planetas más cercanos al sol partiendo de Venus son: \n",
      "['Mercurio']\n",
      "Los planetas más lejanos al sol partiendo de Venus son: \n",
      "['Tierra', 'Marte', 'Jupiter', 'Saturno', 'Urano', 'Nepturno']\n"
     ]
    }
   ],
   "source": [
    "# Lista de planetas\n",
    "planets2=['Mercurio','Venus','Tierra','Marte','Jupiter','Saturno','Urano','Nepturno']\n",
    "\n",
    "# Solicitamos el nombre de un planeta *Pista:  input()*\n",
    "\n",
    "planet=input('Ingrese nombre del planeta ingresando la primera letra Mayuscula: ')\n",
    "indice=planets2.index(planet)\n",
    "\n",
    "print('Los planetas más cercanos a ' + planet+' son: \\n'+ planets2[indice-1]+ ' y ' + planets2[indice+1])\n",
    "\n",
    "# Muestra los planetas más cercanos al sol\n",
    "print('Los planetas más cercanos al sol partiendo de ' + planet+' son: \\n'+ str(planets2[0:indice]))\n",
    "\n",
    "# Muestra los planetas más lejanos al sol\n",
    "print('Los planetas más lejanos al sol partiendo de ' + planet+' son: \\n'+ str(planets2[indice + 1:]))\n",
    "\n"
   ]
  }
 ],
 "metadata": {
  "interpreter": {
   "hash": "3b66be48a5b063486b888a9987ceadeb9496e139d6fb5ed7c7192907f86b5e1c"
  },
  "kernelspec": {
   "display_name": "Python 3.10.2 64-bit",
   "language": "python",
   "name": "python3"
  },
  "language_info": {
   "codemirror_mode": {
    "name": "ipython",
    "version": 3
   },
   "file_extension": ".py",
   "mimetype": "text/x-python",
   "name": "python",
   "nbconvert_exporter": "python",
   "pygments_lexer": "ipython3",
   "version": "3.10.2"
  },
  "orig_nbformat": 4
 },
 "nbformat": 4,
 "nbformat_minor": 2
}
