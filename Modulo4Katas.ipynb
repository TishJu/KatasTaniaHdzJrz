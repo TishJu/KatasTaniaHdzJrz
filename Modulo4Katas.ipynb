{
 "cells": [
  {
   "cell_type": "code",
   "execution_count": 114,
   "metadata": {},
   "outputs": [],
   "source": [
    "text =  \"\"\"Interesting facts about the Moon. The Moon is Earth's only satellite. There are several interesting facts about the Moon and how it affects life here on Earth. \n",
    "On average, the Moon moves 4cm away from the Earth every year. This yearly drift is not significant enough to cause immediate effects on Earth. The highest daylight temperature of the Moon is 127 C.\"\"\"\n",
    "\n",
    "#text.split()\n",
    "dividido=text.split('. ')"
   ]
  },
  {
   "cell_type": "code",
   "execution_count": 115,
   "metadata": {},
   "outputs": [],
   "source": [
    "#Primero, divide el texto en cada oración para trabajar con su contenido:\n",
    "# Añade el código necesario\n",
    "#text.split()\n",
    "#text.split('\\n')"
   ]
  },
  {
   "cell_type": "code",
   "execution_count": 116,
   "metadata": {},
   "outputs": [
    {
     "data": {
      "text/plain": [
       "164"
      ]
     },
     "execution_count": 116,
     "metadata": {},
     "output_type": "execute_result"
    }
   ],
   "source": [
    "#Ahora, define algunas palabras clave para \n",
    "# búsqueda que te ayudarán a determinar \n",
    "# si una oración contiene un hecho.\n",
    "\n",
    "# Define las palabras pista: average, temperature y distance suenan bien\n",
    "text.find('average')"
   ]
  },
  {
   "cell_type": "code",
   "execution_count": 117,
   "metadata": {},
   "outputs": [
    {
     "data": {
      "text/plain": [
       "326"
      ]
     },
     "execution_count": 117,
     "metadata": {},
     "output_type": "execute_result"
    }
   ],
   "source": [
    "text.find('temperature')"
   ]
  },
  {
   "cell_type": "code",
   "execution_count": 118,
   "metadata": {},
   "outputs": [
    {
     "data": {
      "text/plain": [
       "-1"
      ]
     },
     "execution_count": 118,
     "metadata": {},
     "output_type": "execute_result"
    }
   ],
   "source": [
    "text.find('distance')"
   ]
  },
  {
   "cell_type": "code",
   "execution_count": 119,
   "metadata": {},
   "outputs": [
    {
     "name": "stdout",
     "output_type": "stream",
     "text": [
      " \n",
      "On average, the Moon moves 4cm away from the Earth every year\n",
      " The highest daylight temperature of the Moon is 127 C\n"
     ]
    }
   ],
   "source": [
    "listClave=['average','temperature','distance']\n",
    "#Cre un bucle para imprimir solo datos sobre la Luna que estén relacionados con las palabras clave definidas anteriormente:\n",
    "# Ciclo for para recorrer la cadena\n",
    "dividido= text.split('.')\n",
    "# Ciclo for para recorrer la cadena\n",
    "for d in dividido:\n",
    "    for lc in listClave:\n",
    "        if lc in d:\n",
    "            print(d)\n",
    "            "
   ]
  },
  {
   "cell_type": "code",
   "execution_count": 120,
   "metadata": {},
   "outputs": [
    {
     "name": "stdout",
     "output_type": "stream",
     "text": [
      " \n",
      "On average, the Moon moves 4cm away from the Earth every year\n",
      " The highest daylight temperature of the Moon is 127 Celsius\n"
     ]
    }
   ],
   "source": [
    "#Finalmente, actualiza el bucle(ciclo) para cambiar _C_ a _Celsius_:\n",
    "\n",
    "#tx =\"Hola prueba C de C celcius\"\n",
    "#tx.replace(' C', ' Celsius')\n",
    "\n",
    "for d in dividido:\n",
    "    for lc in listClave:\n",
    "        if lc in d:\n",
    "            print(d.replace('C','Celsius'))\n"
   ]
  },
  {
   "cell_type": "code",
   "execution_count": 121,
   "metadata": {},
   "outputs": [],
   "source": [
    "# Datos con los que vas a trabajar\n",
    "nom = \"Iuppiter\"\n",
    "grav = 0.002479 # in kms\n",
    "plt = \"Jupiter\""
   ]
  },
  {
   "cell_type": "code",
   "execution_count": 122,
   "metadata": {},
   "outputs": [
    {
     "name": "stdout",
     "output_type": "stream",
     "text": [
      "        \n",
      "Información de Jupiter         \n"
     ]
    }
   ],
   "source": [
    "# Creamos el título\n",
    "t=f'\\nInformación de {plt}'.center(40, ' ')\n",
    "\n",
    "print(t)"
   ]
  },
  {
   "cell_type": "code",
   "execution_count": 123,
   "metadata": {},
   "outputs": [
    {
     "name": "stdout",
     "output_type": "stream",
     "text": [
      "Su nombre en latin es Iuppiter es el planeta más grande del\n",
      "sistema solar y el quinto en orden de lejanía al Sol.\n",
      "La gravedad en Iuppiter es de 2.4789999999999996 m/s2. \n"
     ]
    }
   ],
   "source": [
    "# Creamos la plantilla\n",
    "\n",
    "plantilla = f\"\"\"Su nombre en latin es {nom} es el planeta más grande del\n",
    "sistema solar y el quinto en orden de lejanía al Sol.\n",
    "La gravedad en {nom} es de {grav * 1000} m/s2. \"\"\".ljust(100,'-')\n",
    "\n",
    "\n",
    "print(plantilla)"
   ]
  },
  {
   "cell_type": "code",
   "execution_count": 124,
   "metadata": {},
   "outputs": [
    {
     "name": "stdout",
     "output_type": "stream",
     "text": [
      "        \n",
      "Información De Jupiter         \n",
      "\n",
      "Su nombre en latin es Iuppiter es el planeta más grande del\n",
      "sistema solar y el quinto en orden de lejanía al Sol.\n",
      "La gravedad en Iuppiter es de 2.4789999999999996 m/s2. \n"
     ]
    }
   ],
   "source": [
    "# Unión de ambas cadenas\n",
    "\n",
    "union = f\"\"\"{t.title()}\\n\\n{plantilla}\"\"\" \n",
    "print(union)"
   ]
  },
  {
   "cell_type": "code",
   "execution_count": 125,
   "metadata": {},
   "outputs": [],
   "source": [
    "plt = 'Marte '\n",
    "grav = 0.00143\n",
    "nom = 'Ganímedes'"
   ]
  },
  {
   "cell_type": "code",
   "execution_count": 126,
   "metadata": {},
   "outputs": [
    {
     "name": "stdout",
     "output_type": "stream",
     "text": [
      "        \n",
      "Información De Jupiter         \n",
      "\n",
      "Su nombre en latin es Iuppiter es el planeta más grande del\n",
      "sistema solar y el quinto en orden de lejanía al Sol.\n",
      "La gravedad en Iuppiter es de 2.4789999999999996 m/s2. \n"
     ]
    }
   ],
   "source": [
    "# Comprobamos la plantilla\n",
    "print(union)"
   ]
  },
  {
   "cell_type": "code",
   "execution_count": 127,
   "metadata": {},
   "outputs": [
    {
     "name": "stdout",
     "output_type": "stream",
     "text": [
      "         \n",
      "Información De Marte           \n",
      "\n",
      "Su nombre es Ganímedes es el cuarto planeta en orden de distancia al Sol y \n",
      "el segundo más pequeño del sistema solar, después de Mercurio.\n",
      "La gravedad en Marte  es de 1.4300000000000002 m/s2. \n"
     ]
    }
   ],
   "source": [
    "# Nueva plantilla\n",
    "union2=\"\"\"         \n",
    "Información De {plt}          \n",
    "\n",
    "Su nombre es {nom} es el cuarto planeta en orden de distancia al Sol y \n",
    "el segundo más pequeño del sistema solar, después de Mercurio.\n",
    "La gravedad en {plt} es de {grav} m/s2. \"\"\"\n",
    "\n",
    "print(union2.format(nom=nom, plt=plt, grav=grav*1000))"
   ]
  }
 ],
 "metadata": {
  "interpreter": {
   "hash": "3b66be48a5b063486b888a9987ceadeb9496e139d6fb5ed7c7192907f86b5e1c"
  },
  "kernelspec": {
   "display_name": "Python 3.10.2 64-bit",
   "language": "python",
   "name": "python3"
  },
  "language_info": {
   "codemirror_mode": {
    "name": "ipython",
    "version": 3
   },
   "file_extension": ".py",
   "mimetype": "text/x-python",
   "name": "python",
   "nbconvert_exporter": "python",
   "pygments_lexer": "ipython3",
   "version": "3.10.2"
  },
  "orig_nbformat": 4
 },
 "nbformat": 4,
 "nbformat_minor": 2
}
