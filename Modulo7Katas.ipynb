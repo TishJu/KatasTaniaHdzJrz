{
 "cells": [
  {
   "cell_type": "code",
   "execution_count": 46,
   "metadata": {},
   "outputs": [],
   "source": [
    "# Declara dos variables\n",
    "new_planet=''\n",
    "planets=[]"
   ]
  },
  {
   "cell_type": "code",
   "execution_count": 47,
   "metadata": {},
   "outputs": [
    {
     "name": "stdout",
     "output_type": "stream",
     "text": [
      "Favor de ingresar nombres de planeta, si desea salir favor de escribir done:\n",
      "****Favor de ingresar información texto*****\n",
      "Los planetas agregados son:  ['Marte', 'Venus', 'Tierra']\n"
     ]
    }
   ],
   "source": [
    "# Escribe el ciclo while solicitado\n",
    "print('Favor de ingresar nombres de planeta, si desea salir favor de escribir done:')\n",
    "while new_planet!='done':\n",
    "    new_planet=input('Favor de ingresar nombre de planeta')\n",
    "    if new_planet.isspace()!=True and len(new_planet) !=0 and new_planet!='done':\n",
    "        planets.append(new_planet.strip())\n",
    "        #print('Se agregó planeta ' , new_planet)\n",
    "    else:\n",
    "        print('****Favor de ingresar información texto*****')\n",
    "print('Los planetas agregados son: ' , str(planets))\n",
    "#new_planet.isspace() or "
   ]
  },
  {
   "cell_type": "code",
   "execution_count": 48,
   "metadata": {},
   "outputs": [
    {
     "name": "stdout",
     "output_type": "stream",
     "text": [
      "Los planetas agregados son:\n",
      ".......Marte........\n",
      ".......Venus........\n",
      ".......Tierra.......\n"
     ]
    }
   ],
   "source": [
    "print('Los planetas agregados son:')\n",
    "for planeta in planets:\n",
    "    print(planeta.center(20,'.'))"
   ]
  }
 ],
 "metadata": {
  "interpreter": {
   "hash": "3b66be48a5b063486b888a9987ceadeb9496e139d6fb5ed7c7192907f86b5e1c"
  },
  "kernelspec": {
   "display_name": "Python 3.10.2 64-bit",
   "language": "python",
   "name": "python3"
  },
  "language_info": {
   "codemirror_mode": {
    "name": "ipython",
    "version": 3
   },
   "file_extension": ".py",
   "mimetype": "text/x-python",
   "name": "python",
   "nbconvert_exporter": "python",
   "pygments_lexer": "ipython3",
   "version": "3.10.2"
  },
  "orig_nbformat": 4
 },
 "nbformat": 4,
 "nbformat_minor": 2
}
