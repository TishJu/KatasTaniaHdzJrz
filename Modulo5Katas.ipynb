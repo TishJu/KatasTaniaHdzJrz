{
 "cells": [
  {
   "cell_type": "code",
   "execution_count": 6,
   "metadata": {},
   "outputs": [],
   "source": [
    "# Crear variables para almacenar las dos distancias\n",
    "# ¡Asegúrate de quitar las comas!\n",
    "\n",
    "d_t=149597870\n",
    "d_j=778547200\n",
    "\n"
   ]
  },
  {
   "cell_type": "code",
   "execution_count": 7,
   "metadata": {},
   "outputs": [
    {
     "name": "stdout",
     "output_type": "stream",
     "text": [
      "628949330\n",
      "390577533.93\n"
     ]
    }
   ],
   "source": [
    "\n",
    "# Calcular la distancia entre planetas\n",
    "dEntre_Tj= d_j-d_t\n",
    "print(dEntre_Tj)\n",
    "\n",
    "dMillas= dEntre_Tj * 0.621\n",
    "\n",
    "print(dMillas)\n"
   ]
  },
  {
   "cell_type": "code",
   "execution_count": 13,
   "metadata": {},
   "outputs": [],
   "source": [
    "# Almacenar las entradas del usuario\n",
    "#Pista: variable = input(\"¿Cuál es tu nombre?\")\n",
    "\n",
    "d_p1=input(\"Ingrese el dato de la distancia del sol para el primer planeta: \")\n",
    "d_p2=input(\"Ingrese el dato de la distancia del sol para el segundo palaneta: \")"
   ]
  },
  {
   "cell_type": "code",
   "execution_count": 14,
   "metadata": {},
   "outputs": [],
   "source": [
    "# Convierte las cadenas de ambos planetas a números enteros\n",
    "d_p1Int=int(d_p1)\n",
    "d_p2Int=int(d_p2)"
   ]
  },
  {
   "cell_type": "code",
   "execution_count": 15,
   "metadata": {},
   "outputs": [
    {
     "name": "stdout",
     "output_type": "stream",
     "text": [
      "-50300000\n",
      "3123630.0\n"
     ]
    }
   ],
   "source": [
    "# Realizar el cálculo y determinar el valor absoluto\n",
    "d_p1p2= d_p1Int-d_p2Int\n",
    "print(d_p1p2)\n",
    "\n",
    "# Convertir de KM a Millas\n",
    "\n",
    "dM=d_p1p2*0.0621\n",
    "\n",
    "print(abs(dM))"
   ]
  }
 ],
 "metadata": {
  "interpreter": {
   "hash": "3b66be48a5b063486b888a9987ceadeb9496e139d6fb5ed7c7192907f86b5e1c"
  },
  "kernelspec": {
   "display_name": "Python 3.10.2 64-bit",
   "language": "python",
   "name": "python3"
  },
  "language_info": {
   "codemirror_mode": {
    "name": "ipython",
    "version": 3
   },
   "file_extension": ".py",
   "mimetype": "text/x-python",
   "name": "python",
   "nbconvert_exporter": "python",
   "pygments_lexer": "ipython3",
   "version": "3.10.2"
  },
  "orig_nbformat": 4
 },
 "nbformat": 4,
 "nbformat_minor": 2
}
